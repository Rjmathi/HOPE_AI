{
 "cells": [
  {
   "cell_type": "code",
   "execution_count": null,
   "id": "94ac30ec",
   "metadata": {},
   "outputs": [],
   "source": [
    "#Create Funtion#"
   ]
  },
  {
   "cell_type": "code",
   "execution_count": 1,
   "id": "6325d333",
   "metadata": {},
   "outputs": [],
   "source": [
    "\n",
    "def subfields():\n",
    "    list=[\"Sub-field in AI are:\",\"Machine Learning\",\"Neutral Networks\",\"Vision\",\"Robotics\",\"Speech Processing\",\"Natural Language Processing\"]\n",
    "    for raj in list:\n",
    "        print(raj)\n",
    "    \n",
    "        \n",
    "    "
   ]
  },
  {
   "cell_type": "code",
   "execution_count": 2,
   "id": "d4677508",
   "metadata": {},
   "outputs": [
    {
     "name": "stdout",
     "output_type": "stream",
     "text": [
      "Sub-field in AI are:\n",
      "Machine Learning\n",
      "Neutral Networks\n",
      "Vision\n",
      "Robotics\n",
      "Speech Processing\n",
      "Natural Language Processing\n"
     ]
    }
   ],
   "source": [
    "subfields()"
   ]
  },
  {
   "cell_type": "code",
   "execution_count": 3,
   "id": "b75da5ab",
   "metadata": {},
   "outputs": [],
   "source": [
    "#Create Even function#\n",
    "def oddeven():\n",
    "    num1=int(input(\"Enter The Number:\"))\n",
    "    if(num1%2==0):\n",
    "        print(\"The number is even\")\n",
    "        var=\"The number is even\"\n",
    "    else:\n",
    "        print(\"The number is odd\")\n",
    "        var=\"The number is odd\"\n",
    "    return var\n",
    "            "
   ]
  },
  {
   "cell_type": "code",
   "execution_count": 4,
   "id": "b4cc79f9",
   "metadata": {},
   "outputs": [
    {
     "name": "stdout",
     "output_type": "stream",
     "text": [
      "Enter The Number:4\n",
      "The number is even\n"
     ]
    },
    {
     "data": {
      "text/plain": [
       "'The number is even'"
      ]
     },
     "execution_count": 4,
     "metadata": {},
     "output_type": "execute_result"
    }
   ],
   "source": [
    "oddeven()"
   ]
  },
  {
   "cell_type": "code",
   "execution_count": 6,
   "id": "53831179",
   "metadata": {},
   "outputs": [],
   "source": [
    "#Or Statement Function#\n",
    "def Elegible():\n",
    "    num1=input(\"Your Gender:\")\n",
    "    num2=int(input(\"Your Age:\"))\n",
    "    if (num2==\"Male\") or (num2<=18):\n",
    "        print(\"NOT ELIGIBLE\")\n",
    "        var=\"NOT ELIGIBLE\"\n",
    "    else:\n",
    "        print(\"Elegible\")\n",
    "        var=\"Elegible\"\n",
    "    return var"
   ]
  },
  {
   "cell_type": "code",
   "execution_count": 7,
   "id": "7e75e62b",
   "metadata": {},
   "outputs": [
    {
     "name": "stdout",
     "output_type": "stream",
     "text": [
      "Your Gender:Male\n",
      "Your Age:18\n",
      "NOT ELIGIBLE\n"
     ]
    },
    {
     "data": {
      "text/plain": [
       "'NOT ELIGIBLE'"
      ]
     },
     "execution_count": 7,
     "metadata": {},
     "output_type": "execute_result"
    }
   ],
   "source": [
    "Elegible()"
   ]
  },
  {
   "cell_type": "code",
   "execution_count": 7,
   "id": "7bdc937b",
   "metadata": {},
   "outputs": [
    {
     "name": "stdout",
     "output_type": "stream",
     "text": [
      "Your Gender:male\n",
      "Your Age:19\n",
      "Elegible\n"
     ]
    }
   ],
   "source": [
    "Elegible1=Elegible()"
   ]
  },
  {
   "cell_type": "code",
   "execution_count": 8,
   "id": "1648538e",
   "metadata": {},
   "outputs": [],
   "source": [
    "def percentage():\n",
    "    subj1=int(input(\"subject1=\"))\n",
    "    subj2=int(input(\"subject2=\"))\n",
    "    subj3=int(input(\"subject3=\"))\n",
    "    subj4=int(input(\"subject4=\"))\n",
    "    subj5=int(input(\"subject5=\"))\n",
    "    Total=subj1+subj2+subj3+subj4+subj5\n",
    "    print(\"Total:\",Total)\n",
    "    Percentage=Total//5\n",
    "    print(\"Percentage:\",Percentage)\n",
    "    "
   ]
  },
  {
   "cell_type": "code",
   "execution_count": 9,
   "id": "af2968b1",
   "metadata": {},
   "outputs": [
    {
     "name": "stdout",
     "output_type": "stream",
     "text": [
      "subject1=23\n",
      "subject2=45\n",
      "subject3=34\n",
      "subject4=23\n",
      "subject5=23\n",
      "Total: 148\n",
      "Percentage: 29\n"
     ]
    }
   ],
   "source": [
    "percentage()"
   ]
  },
  {
   "cell_type": "code",
   "execution_count": 10,
   "id": "7c4b1e6a",
   "metadata": {},
   "outputs": [],
   "source": [
    "def triangle():\n",
    "    hei=int(input(\"Height:\"))\n",
    "    Bre=int(input(\"Breadth:\"))\n",
    "    print(\"Area Formula:(Height*Breadth)/2\")\n",
    "    Formula=(hei*Bre)/2\n",
    "    print(\"Area of Triangle:\",Formula)\n",
    "    Hei1=int(input(\"Height1:\"))\n",
    "    Hei2=int(input(\"Height2:\"))\n",
    "    Bred=int(input(\"Breadth:\"))\n",
    "    print(\"Perimeter Formula:Height1+Height2+Breath\")\n",
    "    POT=Hei1+Hei2+Bred \n",
    "    print(POT)\n",
    "    \n",
    "    \n",
    "    "
   ]
  },
  {
   "cell_type": "code",
   "execution_count": 11,
   "id": "48ab5a2f",
   "metadata": {},
   "outputs": [
    {
     "name": "stdout",
     "output_type": "stream",
     "text": [
      "Height:3\n",
      "Breadth:4\n",
      "Area Formula:(Height*Breadth)/2\n",
      "Area of Triangle: 6.0\n",
      "Height1:3\n",
      "Height2:4\n",
      "Breadth:45\n",
      "Perimeter Formula:Height1+Height2+Breath\n",
      "52\n"
     ]
    }
   ],
   "source": [
    "triangle()"
   ]
  },
  {
   "cell_type": "code",
   "execution_count": 12,
   "id": "2d754954",
   "metadata": {},
   "outputs": [
    {
     "name": "stdout",
     "output_type": "stream",
     "text": [
      "Height:3\n",
      "Breadth:4\n",
      "Area Formula:(Height*Breadth)/2\n",
      "Area of Triangle: 6.0\n",
      "Height1:3\n",
      "Height2:4\n",
      "Breadth:45\n",
      "Perimeter Formula:Height1+Height2+Breath\n",
      "52\n"
     ]
    }
   ],
   "source": [
    "tri=triangle()"
   ]
  },
  {
   "cell_type": "code",
   "execution_count": null,
   "id": "fcc8f837",
   "metadata": {},
   "outputs": [],
   "source": []
  }
 ],
 "metadata": {
  "kernelspec": {
   "display_name": "Python 3 (ipykernel)",
   "language": "python",
   "name": "python3"
  },
  "language_info": {
   "codemirror_mode": {
    "name": "ipython",
    "version": 3
   },
   "file_extension": ".py",
   "mimetype": "text/x-python",
   "name": "python",
   "nbconvert_exporter": "python",
   "pygments_lexer": "ipython3",
   "version": "3.10.9"
  }
 },
 "nbformat": 4,
 "nbformat_minor": 5
}
