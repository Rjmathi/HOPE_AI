{
 "cells": [
  {
   "cell_type": "code",
   "execution_count": 1,
   "id": "c5202a4f",
   "metadata": {},
   "outputs": [],
   "source": [
    "##Pro-Scret TO write a program#"
   ]
  },
  {
   "cell_type": "code",
   "execution_count": 4,
   "id": "dc8269b1",
   "metadata": {},
   "outputs": [
    {
     "name": "stdout",
     "output_type": "stream",
     "text": [
      "The addition of two number\n",
      "the first number is:20\n",
      "the sec number is:50\n",
      "2050\n"
     ]
    }
   ],
   "source": [
    "print(\"The addition of two number\")#Whener we give a number before we need to give int##\n",
    "num1=input(\"the first number is:\")\n",
    "num2=input(\"the sec number is:\")\n",
    "add1=num1+num2\n",
    "print(add1)"
   ]
  },
  {
   "cell_type": "code",
   "execution_count": 5,
   "id": "559f6190",
   "metadata": {},
   "outputs": [
    {
     "name": "stdout",
     "output_type": "stream",
     "text": [
      "The addition of two number\n",
      "the first number is:50\n",
      "the sec number is:50\n",
      "100\n"
     ]
    }
   ],
   "source": [
    "print(\"The addition of two number\")\n",
    "num1=int(input(\"the first number is:\"))\n",
    "num2=int(input(\"the sec number is:\"))\n",
    "add1=num1+num2\n",
    "print(add1)"
   ]
  },
  {
   "cell_type": "code",
   "execution_count": null,
   "id": "64b3e01e",
   "metadata": {},
   "outputs": [],
   "source": []
  }
 ],
 "metadata": {
  "kernelspec": {
   "display_name": "Python 3 (ipykernel)",
   "language": "python",
   "name": "python3"
  },
  "language_info": {
   "codemirror_mode": {
    "name": "ipython",
    "version": 3
   },
   "file_extension": ".py",
   "mimetype": "text/x-python",
   "name": "python",
   "nbconvert_exporter": "python",
   "pygments_lexer": "ipython3",
   "version": "3.10.9"
  }
 },
 "nbformat": 4,
 "nbformat_minor": 5
}
