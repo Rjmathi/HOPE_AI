{
 "cells": [
  {
   "cell_type": "code",
   "execution_count": 1,
   "id": "d5ef66d0",
   "metadata": {},
   "outputs": [
    {
     "name": "stdout",
     "output_type": "stream",
     "text": [
      "value:10\n",
      "correct\n"
     ]
    }
   ],
   "source": [
    "#Print correct if i==10#\n",
    "num=int(input(\"value:\"))\n",
    "if num==10:\n",
    "    print(\"correct\")"
   ]
  },
  {
   "cell_type": "code",
   "execution_count": 2,
   "id": "d240f315",
   "metadata": {},
   "outputs": [
    {
     "name": "stdout",
     "output_type": "stream",
     "text": [
      "Enter the password:HOPE@123\n",
      "Your Password is correct\n"
     ]
    }
   ],
   "source": [
    "#Check the password,Using if and else\n",
    "num1=input(\"Enter the password:\")\n",
    "if num1==\"HOPE@123\":\n",
    "    print(\"Your Password is correct\")\n",
    "else:\n",
    "    print(\"Wromg Password\")\n"
   ]
  },
  {
   "cell_type": "code",
   "execution_count": 4,
   "id": "e72de357",
   "metadata": {},
   "outputs": [
    {
     "name": "stdout",
     "output_type": "stream",
     "text": [
      "Age:20\n",
      "Adult\n"
     ]
    }
   ],
   "source": [
    "#Catagory the people by their age like children, adult, citizen, senior citizen..#\n",
    "num1=int(input(\"Age:\"))\n",
    "if (num1<18):\n",
    "    print(\"Children\")\n",
    "elif (num1<35):\n",
    "    print(\"Adult\")\n",
    "elif  (num1<59):\n",
    "    print(\"Citizen\")\n",
    "else:\n",
    "    print(\"Senior Citizen\")"
   ]
  },
  {
   "cell_type": "markdown",
   "id": "47b7628c",
   "metadata": {},
   "source": [
    "#age<18-Children #age<35-Adult #age<59-Citizen #age>59-Senior citizen"
   ]
  },
  {
   "cell_type": "code",
   "execution_count": 2,
   "id": "9ecf3cf1",
   "metadata": {},
   "outputs": [
    {
     "name": "stdout",
     "output_type": "stream",
     "text": [
      "Enter any number:1\n",
      "Positive\n"
     ]
    }
   ],
   "source": [
    "#Find whether given number is positive or negative\n",
    "num5=int(input(\"Enter any number:\"))\n",
    "if (num5>0):\n",
    "    print(\"Positive\")\n",
    "elif (num5==0):\n",
    "    print(\"Zer0\")\n",
    "else:\n",
    "    print(\"Negative\")\n"
   ]
  },
  {
   "cell_type": "code",
   "execution_count": 8,
   "id": "f772e94a",
   "metadata": {},
   "outputs": [
    {
     "name": "stdout",
     "output_type": "stream",
     "text": [
      "Enter a number to check:22\n",
      "Number is not divible by 5\n"
     ]
    }
   ],
   "source": [
    "# Check whether the given number is divisible by 5\n",
    "list1=int(input('Enter a number to check:'))\n",
    "if (list1%5==0):\n",
    "    print(\"Number is divible by 5\")\n",
    "else:\n",
    "    print(\"Number is not divible by 5\")\n",
    "    "
   ]
  },
  {
   "cell_type": "code",
   "execution_count": null,
   "id": "2fe67362",
   "metadata": {},
   "outputs": [],
   "source": []
  }
 ],
 "metadata": {
  "kernelspec": {
   "display_name": "Python 3 (ipykernel)",
   "language": "python",
   "name": "python3"
  },
  "language_info": {
   "codemirror_mode": {
    "name": "ipython",
    "version": 3
   },
   "file_extension": ".py",
   "mimetype": "text/x-python",
   "name": "python",
   "nbconvert_exporter": "python",
   "pygments_lexer": "ipython3",
   "version": "3.10.9"
  }
 },
 "nbformat": 4,
 "nbformat_minor": 5
}
