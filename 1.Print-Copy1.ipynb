{
 "cells": [
  {
   "cell_type": "code",
   "execution_count": 1,
   "id": "323ce3a0",
   "metadata": {},
   "outputs": [],
   "source": [
    "##Print will print the statement of strings,using open close parenthesis,only start with small alphabets##"
   ]
  },
  {
   "cell_type": "code",
   "execution_count": 2,
   "id": "7c2da961",
   "metadata": {},
   "outputs": [
    {
     "name": "stdout",
     "output_type": "stream",
     "text": [
      "Hello Rajmathi\n"
     ]
    }
   ],
   "source": [
    "print(\"Hello Rajmathi\")"
   ]
  },
  {
   "cell_type": "code",
   "execution_count": 3,
   "id": "3f823943",
   "metadata": {},
   "outputs": [
    {
     "name": "stdout",
     "output_type": "stream",
     "text": [
      "123raj\n"
     ]
    }
   ],
   "source": [
    "print(\"123raj\")"
   ]
  },
  {
   "cell_type": "code",
   "execution_count": 4,
   "id": "f8de7b44",
   "metadata": {},
   "outputs": [
    {
     "name": "stdout",
     "output_type": "stream",
     "text": [
      "123#raj\n"
     ]
    }
   ],
   "source": [
    "print(\"123#raj\")"
   ]
  },
  {
   "cell_type": "code",
   "execution_count": null,
   "id": "eab82256",
   "metadata": {},
   "outputs": [],
   "source": []
  }
 ],
 "metadata": {
  "kernelspec": {
   "display_name": "Python 3 (ipykernel)",
   "language": "python",
   "name": "python3"
  },
  "language_info": {
   "codemirror_mode": {
    "name": "ipython",
    "version": 3
   },
   "file_extension": ".py",
   "mimetype": "text/x-python",
   "name": "python",
   "nbconvert_exporter": "python",
   "pygments_lexer": "ipython3",
   "version": "3.10.9"
  }
 },
 "nbformat": 4,
 "nbformat_minor": 5
}
