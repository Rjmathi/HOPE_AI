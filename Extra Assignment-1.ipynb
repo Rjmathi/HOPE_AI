{
 "cells": [
  {
   "cell_type": "code",
   "execution_count": 2,
   "id": "1eb8211c",
   "metadata": {},
   "outputs": [
    {
     "name": "stdout",
     "output_type": "stream",
     "text": [
      "HOPE AI\n"
     ]
    }
   ],
   "source": [
    "#Print Statement#\n",
    "print(\"HOPE AI\")"
   ]
  },
  {
   "cell_type": "code",
   "execution_count": 5,
   "id": "956fff3f",
   "metadata": {},
   "outputs": [
    {
     "name": "stdout",
     "output_type": "stream",
     "text": [
      "Enter Your institute name?:HOPE AI\n",
      "HOPE AI\n"
     ]
    }
   ],
   "source": [
    "#Buy Input#\n",
    "Ins=input(\"Enter Your institute name?:\")\n",
    "print(Ins)"
   ]
  },
  {
   "cell_type": "code",
   "execution_count": 6,
   "id": "871504bf",
   "metadata": {},
   "outputs": [
    {
     "name": "stdout",
     "output_type": "stream",
     "text": [
      "Enter Your Name:Rajamthi\n",
      "Enter Your age:25\n",
      "Enter Your Institute:Grab a Grub Services\n",
      "Enter Your Position:Sr.Executive-Data Analyst\n"
     ]
    }
   ],
   "source": [
    "#Buy Input#\n",
    "Name=input(\"Enter Your Name:\")\n",
    "Age=input(\"Enter Your age:\")\n",
    "Institute=input(\"Enter Your Institute:\")\n",
    "Position=input(\"Enter Your Position:\")"
   ]
  },
  {
   "cell_type": "code",
   "execution_count": 7,
   "id": "3f51befc",
   "metadata": {},
   "outputs": [
    {
     "name": "stdout",
     "output_type": "stream",
     "text": [
      "77\n"
     ]
    }
   ],
   "source": [
    "#Addition#\n",
    "a=43\n",
    "b=34\n",
    "print(a+b)"
   ]
  },
  {
   "cell_type": "code",
   "execution_count": 13,
   "id": "a0d2273b",
   "metadata": {},
   "outputs": [
    {
     "name": "stdout",
     "output_type": "stream",
     "text": [
      "a=43\n",
      "b=34\n",
      "77\n"
     ]
    }
   ],
   "source": [
    "#Add_2#\n",
    "add=int(input(\"a=\"))\n",
    "tion=int(input(\"b=\"))\n",
    "print(add+tion)"
   ]
  },
  {
   "cell_type": "code",
   "execution_count": 16,
   "id": "afbb0d85",
   "metadata": {},
   "outputs": [
    {
     "name": "stdout",
     "output_type": "stream",
     "text": [
      "a=43\n",
      "b=34\n",
      "9\n"
     ]
    }
   ],
   "source": [
    "#Subtraction#\n",
    "sub=int(input(\"a=\"))\n",
    "tion=int(input(\"b=\"))\n",
    "print(sub-tion)"
   ]
  },
  {
   "cell_type": "code",
   "execution_count": 17,
   "id": "95eb6d46",
   "metadata": {},
   "outputs": [
    {
     "name": "stdout",
     "output_type": "stream",
     "text": [
      "9\n"
     ]
    }
   ],
   "source": [
    "#Sub_2#\n",
    "a=43\n",
    "b=34\n",
    "print(a-b)"
   ]
  },
  {
   "cell_type": "code",
   "execution_count": 18,
   "id": "e3c26d54",
   "metadata": {},
   "outputs": [
    {
     "name": "stdout",
     "output_type": "stream",
     "text": [
      "6111\n"
     ]
    }
   ],
   "source": [
    "#Multiplication#\n",
    "a=63\n",
    "b=97\n",
    "print(a*b)"
   ]
  },
  {
   "cell_type": "code",
   "execution_count": 20,
   "id": "2f4d4fa0",
   "metadata": {},
   "outputs": [
    {
     "name": "stdout",
     "output_type": "stream",
     "text": [
      "2.4516129032258065\n"
     ]
    }
   ],
   "source": [
    "#Division#\n",
    "a=76\n",
    "b=31\n",
    "print(a/b)"
   ]
  },
  {
   "cell_type": "code",
   "execution_count": 22,
   "id": "0d7d183a",
   "metadata": {},
   "outputs": [
    {
     "name": "stdout",
     "output_type": "stream",
     "text": [
      "2\n"
     ]
    }
   ],
   "source": [
    "#Floor Division#\n",
    "a=76\n",
    "b=31\n",
    "print(a//b)"
   ]
  },
  {
   "cell_type": "code",
   "execution_count": 24,
   "id": "fbbb740c",
   "metadata": {},
   "outputs": [
    {
     "name": "stdout",
     "output_type": "stream",
     "text": [
      "14\n"
     ]
    }
   ],
   "source": [
    "#Modulo#(%)\n",
    "a=76\n",
    "b=31\n",
    "Module=a%b\n",
    "print(Module)"
   ]
  },
  {
   "cell_type": "code",
   "execution_count": 26,
   "id": "72d654fa",
   "metadata": {},
   "outputs": [
    {
     "name": "stdout",
     "output_type": "stream",
     "text": [
      "256\n"
     ]
    }
   ],
   "source": [
    "#Power#\n",
    "a=4\n",
    "b=4\n",
    "Power=a**b\n",
    "print(Power)"
   ]
  },
  {
   "cell_type": "code",
   "execution_count": null,
   "id": "30f5e7aa",
   "metadata": {},
   "outputs": [],
   "source": []
  }
 ],
 "metadata": {
  "kernelspec": {
   "display_name": "Python 3 (ipykernel)",
   "language": "python",
   "name": "python3"
  },
  "language_info": {
   "codemirror_mode": {
    "name": "ipython",
    "version": 3
   },
   "file_extension": ".py",
   "mimetype": "text/x-python",
   "name": "python",
   "nbconvert_exporter": "python",
   "pygments_lexer": "ipython3",
   "version": "3.10.9"
  }
 },
 "nbformat": 4,
 "nbformat_minor": 5
}
