{
 "cells": [
  {
   "cell_type": "code",
   "execution_count": 1,
   "id": "1f083d8b",
   "metadata": {},
   "outputs": [],
   "source": [
    "##If elif#\n"
   ]
  },
  {
   "cell_type": "markdown",
   "id": "b8ab66ba",
   "metadata": {},
   "source": [
    "#age<18-Children\n",
    "#age<35-Adult\n",
    "#age<59-Citizen\n",
    "#age>59-Senior citizen"
   ]
  },
  {
   "cell_type": "code",
   "execution_count": 13,
   "id": "3828455d",
   "metadata": {},
   "outputs": [
    {
     "name": "stdout",
     "output_type": "stream",
     "text": [
      "The person age is:60\n"
     ]
    }
   ],
   "source": [
    "age=int(input(\"The person age is:\"))"
   ]
  },
  {
   "cell_type": "code",
   "execution_count": 14,
   "id": "d4728617",
   "metadata": {},
   "outputs": [
    {
     "name": "stdout",
     "output_type": "stream",
     "text": [
      "Senior Citizen\n"
     ]
    }
   ],
   "source": [
    "if(age<18):\n",
    "    print(\"Children\")\n",
    "elif(age<35):\n",
    "    print(\"Adult\")\n",
    "elif(age<59):\n",
    "    print(\"Citizen\")\n",
    "else:\n",
    "    print(\"Senior Citizen\")\n"
   ]
  },
  {
   "cell_type": "code",
   "execution_count": 16,
   "id": "645aeb6f",
   "metadata": {},
   "outputs": [],
   "source": [
    "lists=[10,20,30,40,50,60]\n"
   ]
  },
  {
   "cell_type": "code",
   "execution_count": 25,
   "id": "3fe8eaa9",
   "metadata": {},
   "outputs": [
    {
     "name": "stdout",
     "output_type": "stream",
     "text": [
      "Children\n",
      "Adult\n",
      "Adult\n",
      "Citizen\n",
      "Citizen\n",
      "Senior Citizen\n"
     ]
    }
   ],
   "source": [
    "for age in lists:\n",
    "    if(age<18):\n",
    "        print(\"Children\")\n",
    "    elif(age<35):\n",
    "        print(\"Adult\")\n",
    "    elif(age<59):\n",
    "        print(\"Citizen\")\n",
    "    else:\n",
    "        print(\"Senior Citizen\")\n",
    "    \n",
    "     \n",
    "    "
   ]
  },
  {
   "cell_type": "code",
   "execution_count": 21,
   "id": "c08186f7",
   "metadata": {},
   "outputs": [
    {
     "name": "stdout",
     "output_type": "stream",
     "text": [
      "10\n",
      "20\n",
      "30\n",
      "40\n",
      "50\n",
      "60\n"
     ]
    }
   ],
   "source": [
    "for rajmathi in lists:\n",
    "    print(rajmathi)"
   ]
  },
  {
   "cell_type": "code",
   "execution_count": null,
   "id": "625c8f9e",
   "metadata": {},
   "outputs": [],
   "source": []
  }
 ],
 "metadata": {
  "kernelspec": {
   "display_name": "Python 3 (ipykernel)",
   "language": "python",
   "name": "python3"
  },
  "language_info": {
   "codemirror_mode": {
    "name": "ipython",
    "version": 3
   },
   "file_extension": ".py",
   "mimetype": "text/x-python",
   "name": "python",
   "nbconvert_exporter": "python",
   "pygments_lexer": "ipython3",
   "version": "3.10.9"
  }
 },
 "nbformat": 4,
 "nbformat_minor": 5
}
