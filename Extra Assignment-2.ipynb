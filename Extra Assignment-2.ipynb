{
 "cells": [
  {
   "cell_type": "code",
   "execution_count": 1,
   "id": "33c2a237",
   "metadata": {},
   "outputs": [
    {
     "name": "stdout",
     "output_type": "stream",
     "text": [
      "-Your Name-\n",
      "-Your Age-\n",
      "-Your Profession-\n"
     ]
    }
   ],
   "source": [
    "#Range#"
   ]
  },
  {
   "cell_type": "code",
   "execution_count": 7,
   "id": "206d048e",
   "metadata": {},
   "outputs": [
    {
     "data": {
      "text/plain": [
       "range(0, 11)"
      ]
     },
     "execution_count": 7,
     "metadata": {},
     "output_type": "execute_result"
    }
   ],
   "source": [
    "range(0,11)"
   ]
  },
  {
   "cell_type": "code",
   "execution_count": 8,
   "id": "3fbfb5ef",
   "metadata": {},
   "outputs": [
    {
     "name": "stdout",
     "output_type": "stream",
     "text": [
      "range(0, 11)\n"
     ]
    }
   ],
   "source": [
    "print(range(0,11))"
   ]
  },
  {
   "cell_type": "code",
   "execution_count": 9,
   "id": "1508b9cb",
   "metadata": {},
   "outputs": [
    {
     "name": "stdout",
     "output_type": "stream",
     "text": [
      "0\n",
      "1\n",
      "2\n",
      "3\n",
      "4\n",
      "5\n",
      "6\n",
      "7\n",
      "8\n",
      "9\n",
      "10\n"
     ]
    }
   ],
   "source": [
    "for num in range(0,11):\n",
    "    print(num)"
   ]
  },
  {
   "cell_type": "code",
   "execution_count": 10,
   "id": "8ec141eb",
   "metadata": {},
   "outputs": [
    {
     "name": "stdout",
     "output_type": "stream",
     "text": [
      "10\n",
      "11\n",
      "12\n",
      "13\n",
      "14\n",
      "15\n",
      "16\n",
      "17\n",
      "18\n",
      "19\n"
     ]
    }
   ],
   "source": [
    "for raj in range(10,20):\n",
    "    print(raj)"
   ]
  },
  {
   "cell_type": "code",
   "execution_count": 11,
   "id": "114f38cd",
   "metadata": {},
   "outputs": [
    {
     "name": "stdout",
     "output_type": "stream",
     "text": [
      "7\n"
     ]
    }
   ],
   "source": [
    "list=[10,20,14,55,43,87,76]\n",
    "print(len(list))"
   ]
  },
  {
   "cell_type": "code",
   "execution_count": null,
   "id": "84524c72",
   "metadata": {},
   "outputs": [],
   "source": []
  },
  {
   "cell_type": "code",
   "execution_count": 5,
   "id": "f085501a",
   "metadata": {},
   "outputs": [
    {
     "name": "stdout",
     "output_type": "stream",
     "text": [
      "1,Welcome, 2,Hope\n"
     ]
    }
   ],
   "source": [
    "tup1=(\"1,Welcome\")\n",
    "tup2=(\", 2,Hope\")\n",
    "tup3=tup1+tup2\n",
    "print(tup3)"
   ]
  },
  {
   "cell_type": "code",
   "execution_count": 6,
   "id": "9017b896",
   "metadata": {},
   "outputs": [
    {
     "name": "stdout",
     "output_type": "stream",
     "text": [
      "-Your Name-\n",
      "-Your Age-\n",
      "-Your Profession-\n"
     ]
    }
   ],
   "source": [
    "print(\"-Your Name-\")\n",
    "print(\"-Your Age-\")\n",
    "print(\"-Your Profession-\")"
   ]
  },
  {
   "cell_type": "code",
   "execution_count": 3,
   "id": "e758b480",
   "metadata": {},
   "outputs": [
    {
     "name": "stdout",
     "output_type": "stream",
     "text": [
      "((0, 1, 2, 3), ('python', 'Hope'))\n"
     ]
    }
   ],
   "source": [
    "tuple1=(0,1,2,3)\n",
    "tuple2=(\"python\",\"Hope\")\n",
    "tuple3=(tuple1,tuple2)\n",
    "#print(\"\\nTuple with nested tuples\")\n",
    "print(tuple3)"
   ]
  },
  {
   "cell_type": "code",
   "execution_count": 21,
   "id": "7dbcc109",
   "metadata": {},
   "outputs": [
    {
     "name": "stdout",
     "output_type": "stream",
     "text": [
      "Even Number\n",
      "Even Number\n",
      "Even Number\n",
      "odd Number\n",
      "odd Number\n",
      "odd Number\n",
      "Even Number\n",
      "Even Number\n"
     ]
    }
   ],
   "source": [
    "#Odd NUmber Program#\n",
    "num=[20,10,16,19,25,1,276,188]\n",
    "for num1 in num:\n",
    "    if(num1%2!=0):\n",
    "        print(\"odd Number\")\n",
    "    else:\n",
    "        print(\"Even Number\")\n",
    "        \n",
    "        \n",
    "        \n",
    "    \n"
   ]
  },
  {
   "cell_type": "code",
   "execution_count": 22,
   "id": "e312d1bb",
   "metadata": {},
   "outputs": [
    {
     "name": "stdout",
     "output_type": "stream",
     "text": [
      "Even NUmber\n",
      "Even NUmber\n",
      "Even NUmber\n",
      "Odd NUmber\n",
      "Odd NUmber\n",
      "Odd NUmber\n",
      "Even NUmber\n",
      "Even NUmber\n"
     ]
    }
   ],
   "source": [
    "#Even NUmber Progran#\n",
    "num2=[20,10,16,19,25,1,276,188]\n",
    "for num3 in num2:\n",
    "    if(num3%2==0):\n",
    "        print(\"Even NUmber\")\n",
    "    else:\n",
    "        print(\"Odd NUmber\")\n",
    "\n",
    "    "
   ]
  },
  {
   "cell_type": "code",
   "execution_count": null,
   "id": "557f7307",
   "metadata": {},
   "outputs": [],
   "source": []
  }
 ],
 "metadata": {
  "kernelspec": {
   "display_name": "Python 3 (ipykernel)",
   "language": "python",
   "name": "python3"
  },
  "language_info": {
   "codemirror_mode": {
    "name": "ipython",
    "version": 3
   },
   "file_extension": ".py",
   "mimetype": "text/x-python",
   "name": "python",
   "nbconvert_exporter": "python",
   "pygments_lexer": "ipython3",
   "version": "3.10.9"
  }
 },
 "nbformat": 4,
 "nbformat_minor": 5
}
