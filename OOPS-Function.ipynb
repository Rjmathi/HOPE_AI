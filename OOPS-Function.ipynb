{
 "cells": [
  {
   "cell_type": "code",
   "execution_count": 1,
   "id": "b900a76b",
   "metadata": {},
   "outputs": [],
   "source": [
    "#Function Syntex#\n",
    "def addition(a,b):\n",
    "    add=a+b\n",
    "    return add"
   ]
  },
  {
   "cell_type": "code",
   "execution_count": 2,
   "id": "eb3c93c1",
   "metadata": {},
   "outputs": [],
   "source": [
    "def subtraction(a,b):\n",
    "    sub=a-b\n",
    "    return sub"
   ]
  },
  {
   "cell_type": "code",
   "execution_count": 4,
   "id": "6a68b7de",
   "metadata": {},
   "outputs": [],
   "source": [
    "def Multiplication(a,b):\n",
    "    mul=a*b\n",
    "    return mul"
   ]
  },
  {
   "cell_type": "code",
   "execution_count": 8,
   "id": "014937a8",
   "metadata": {},
   "outputs": [],
   "source": [
    "lists=[23,45,67,34,89]"
   ]
  },
  {
   "cell_type": "code",
   "execution_count": 9,
   "id": "68e8017d",
   "metadata": {},
   "outputs": [],
   "source": [
    "def agecategory():\n",
    "    for age in lists:\n",
    "        if(age<18):\n",
    "            print(\"Children\")\n",
    "        elif(age<35):\n",
    "            print(\"Adult\")\n",
    "        elif(age<59):\n",
    "            print(\"Citizen\")\n",
    "        else:\n",
    "            print(\"Senior Citizen\")\n",
    "    \n"
   ]
  },
  {
   "cell_type": "code",
   "execution_count": 10,
   "id": "22ebe73a",
   "metadata": {},
   "outputs": [
    {
     "name": "stdout",
     "output_type": "stream",
     "text": [
      "Adult\n",
      "Citizen\n",
      "Senior Citizen\n",
      "Adult\n",
      "Senior Citizen\n"
     ]
    }
   ],
   "source": [
    "agecategory()"
   ]
  },
  {
   "cell_type": "code",
   "execution_count": 11,
   "id": "f0b45e6d",
   "metadata": {},
   "outputs": [
    {
     "name": "stdout",
     "output_type": "stream",
     "text": [
      "Ente the age:59\n"
     ]
    }
   ],
   "source": [
    "age=int(input(\"Ente the age:\"))"
   ]
  },
  {
   "cell_type": "code",
   "execution_count": 16,
   "id": "1ee25c51",
   "metadata": {},
   "outputs": [],
   "source": [
    "def agecategory():\n",
    "        if(age<18):\n",
    "            print(\"Children\")\n",
    "            raj=\"Children\"\n",
    "        elif(age<35):\n",
    "            print(\"Adult\")\n",
    "            raj=\"Adult\"\n",
    "        elif(age<59):\n",
    "            print(\"Citizen\")\n",
    "            raj=\"Citizen\"\n",
    "        else:\n",
    "            print(\"Senior Citizen\")\n",
    "            raj=\"Senior Citizen\"\n",
    "        return raj\n",
    "            \n",
    "    \n",
    "    \n",
    "    \n",
    "    \n",
    "        \n",
    "    "
   ]
  },
  {
   "cell_type": "code",
   "execution_count": 17,
   "id": "bd0e0c70",
   "metadata": {},
   "outputs": [
    {
     "name": "stdout",
     "output_type": "stream",
     "text": [
      "Senior Citizen\n"
     ]
    },
    {
     "data": {
      "text/plain": [
       "'Senior Citizen'"
      ]
     },
     "execution_count": 17,
     "metadata": {},
     "output_type": "execute_result"
    }
   ],
   "source": [
    "agecategory()"
   ]
  },
  {
   "cell_type": "code",
   "execution_count": 18,
   "id": "9213e75c",
   "metadata": {},
   "outputs": [
    {
     "name": "stdout",
     "output_type": "stream",
     "text": [
      "Senior Citizen\n"
     ]
    }
   ],
   "source": [
    "agecate=agecategory()"
   ]
  },
  {
   "cell_type": "code",
   "execution_count": 21,
   "id": "981aa3b2",
   "metadata": {},
   "outputs": [
    {
     "data": {
      "text/plain": [
       "'Senior Citizen'"
      ]
     },
     "execution_count": 21,
     "metadata": {},
     "output_type": "execute_result"
    }
   ],
   "source": [
    "agecate"
   ]
  },
  {
   "cell_type": "code",
   "execution_count": 22,
   "id": "28c568f1",
   "metadata": {},
   "outputs": [
    {
     "name": "stdout",
     "output_type": "stream",
     "text": [
      "Ente the age:25\n",
      "Adult\n"
     ]
    }
   ],
   "source": [
    "age=int(input(\"Ente the age:\"))\n",
    "agecate1=agecategory()"
   ]
  },
  {
   "cell_type": "code",
   "execution_count": 28,
   "id": "3bc6e5d8",
   "metadata": {},
   "outputs": [],
   "source": [
    "def oddven():\n",
    "    num1=int(input(\"Enter the number:\"))\n",
    "    if(num1%2==1):\n",
    "        print(\"Odd Number\")\n",
    "        var=\"Odd NUmber\"\n",
    "    else:\n",
    "        print(\"Even number\")\n",
    "        var=\"Even Number\"\n",
    "    return var\n",
    "             "
   ]
  },
  {
   "cell_type": "code",
   "execution_count": 27,
   "id": "ab7dcfc4",
   "metadata": {},
   "outputs": [
    {
     "name": "stdout",
     "output_type": "stream",
     "text": [
      "Enter the number:1\n",
      "Odd Number\n"
     ]
    }
   ],
   "source": [
    "oddven()"
   ]
  },
  {
   "cell_type": "code",
   "execution_count": 29,
   "id": "46df9cd2",
   "metadata": {},
   "outputs": [
    {
     "name": "stdout",
     "output_type": "stream",
     "text": [
      "Enter the number:1\n",
      "Odd Number\n"
     ]
    }
   ],
   "source": [
    "Massage=oddven()"
   ]
  },
  {
   "cell_type": "code",
   "execution_count": 30,
   "id": "8b5e1fa7",
   "metadata": {},
   "outputs": [
    {
     "name": "stdout",
     "output_type": "stream",
     "text": [
      "Odd Number\n"
     ]
    }
   ],
   "source": [
    "if(Massage=='Even Number'):\n",
    "    print(\"Even Number\")\n",
    "else:\n",
    "    print(\"Odd Number\")"
   ]
  },
  {
   "cell_type": "code",
   "execution_count": null,
   "id": "f1317b0d",
   "metadata": {},
   "outputs": [],
   "source": [
    "\n"
   ]
  },
  {
   "cell_type": "code",
   "execution_count": null,
   "id": "97f5a3f8",
   "metadata": {},
   "outputs": [],
   "source": []
  },
  {
   "cell_type": "code",
   "execution_count": null,
   "id": "ddd1c856",
   "metadata": {},
   "outputs": [],
   "source": []
  }
 ],
 "metadata": {
  "kernelspec": {
   "display_name": "Python 3 (ipykernel)",
   "language": "python",
   "name": "python3"
  },
  "language_info": {
   "codemirror_mode": {
    "name": "ipython",
    "version": 3
   },
   "file_extension": ".py",
   "mimetype": "text/x-python",
   "name": "python",
   "nbconvert_exporter": "python",
   "pygments_lexer": "ipython3",
   "version": "3.10.9"
  }
 },
 "nbformat": 4,
 "nbformat_minor": 5
}
