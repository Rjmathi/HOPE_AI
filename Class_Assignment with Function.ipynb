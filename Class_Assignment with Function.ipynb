{
 "cells": [
  {
   "cell_type": "code",
   "execution_count": 17,
   "id": "5814d340",
   "metadata": {},
   "outputs": [],
   "source": [
    "class subfield():\n",
    "    def subfields():\n",
    "        list=[\"Sub-field in AI are:\",\"Machine Learning\",\"Neutral Networks\",\"Vision\",\"Robotics\",\"Speech Processing\",\"Natural Language Processing\"]\n",
    "        for raj in list:\n",
    "            print(raj)\n",
    "            \n",
    "        "
   ]
  },
  {
   "cell_type": "code",
   "execution_count": 18,
   "id": "3f06e768",
   "metadata": {},
   "outputs": [
    {
     "name": "stdout",
     "output_type": "stream",
     "text": [
      "Sub-field in AI are:\n",
      "Machine Learning\n",
      "Neutral Networks\n",
      "Vision\n",
      "Robotics\n",
      "Speech Processing\n",
      "Natural Language Processing\n"
     ]
    }
   ],
   "source": [
    "subfield.subfields()"
   ]
  },
  {
   "cell_type": "code",
   "execution_count": 6,
   "id": "02e668b9",
   "metadata": {},
   "outputs": [],
   "source": [
    "class oddeven():   #Class_Assignment_Library.py#\n",
    "    def oddeven():\n",
    "        num1=int(input(\"Enter The Number:\"))\n",
    "        if(num1%2==0):\n",
    "            print(\"The number is even\")\n",
    "            var=\"The number is even\"\n",
    "        else:\n",
    "            print(\"The number is odd\")\n",
    "            var=\"The number is odd\"\n",
    "        return var"
   ]
  },
  {
   "cell_type": "code",
   "execution_count": 7,
   "id": "abe70b06",
   "metadata": {},
   "outputs": [
    {
     "name": "stdout",
     "output_type": "stream",
     "text": [
      "Enter The Number:2\n",
      "The number is even\n"
     ]
    },
    {
     "data": {
      "text/plain": [
       "'The number is even'"
      ]
     },
     "execution_count": 7,
     "metadata": {},
     "output_type": "execute_result"
    }
   ],
   "source": [
    "oddeven.oddeven()"
   ]
  },
  {
   "cell_type": "code",
   "execution_count": 8,
   "id": "22571ce3",
   "metadata": {},
   "outputs": [],
   "source": [
    "class elegibility_for_marriage():\n",
    "    def Elegible():\n",
    "        num1=input(\"Your Gender:\")\n",
    "        num2=int(input(\"Your Age:\"))\n",
    "        if (num2==\"Male\") or (num2<=18):\n",
    "            print(\"NOT ELIGIBLE\")\n",
    "            var=\"NOT ELIGIBLE\"\n",
    "        else:\n",
    "            print(\"Elegible\")\n",
    "            var=\"Elegible\"\n",
    "        return var"
   ]
  },
  {
   "cell_type": "code",
   "execution_count": 9,
   "id": "1d37e895",
   "metadata": {},
   "outputs": [
    {
     "name": "stdout",
     "output_type": "stream",
     "text": [
      "Your Gender:Male\n",
      "Your Age:18\n",
      "NOT ELIGIBLE\n"
     ]
    },
    {
     "data": {
      "text/plain": [
       "'NOT ELIGIBLE'"
      ]
     },
     "execution_count": 9,
     "metadata": {},
     "output_type": "execute_result"
    }
   ],
   "source": [
    "elegibility_for_marriage.Elegible()"
   ]
  },
  {
   "cell_type": "code",
   "execution_count": 10,
   "id": "55e79606",
   "metadata": {},
   "outputs": [],
   "source": [
    "class Findpercentage():   #Class_Assignment_1.py#\n",
    "    def percentage():\n",
    "        subj1=int(input(\"subject1=\"))\n",
    "        subj2=int(input(\"subject2=\"))\n",
    "        subj3=int(input(\"subject3=\"))\n",
    "        subj4=int(input(\"subject4=\"))\n",
    "        subj5=int(input(\"subject5=\"))\n",
    "        Total=subj1+subj2+subj3+subj4+subj5\n",
    "        print(\"Total:\",Total)\n",
    "        Percentage=Total//5\n",
    "        print(\"Percentage:\",Percentage)"
   ]
  },
  {
   "cell_type": "code",
   "execution_count": 11,
   "id": "be53b6e6",
   "metadata": {},
   "outputs": [
    {
     "name": "stdout",
     "output_type": "stream",
     "text": [
      "subject1=98\n",
      "subject2=87\n",
      "subject3=95\n",
      "subject4=95\n",
      "subject5=93\n",
      "Total: 468\n",
      "Percentage: 93\n"
     ]
    }
   ],
   "source": [
    "Findpercentage.percentage()"
   ]
  },
  {
   "cell_type": "code",
   "execution_count": 12,
   "id": "115d8884",
   "metadata": {},
   "outputs": [],
   "source": [
    "class Triangle():\n",
    "    def triangle():\n",
    "        hei=int(input(\"Height:\"))\n",
    "        Bre=int(input(\"Breadth:\"))\n",
    "        print(\"Area Formula:(Height*Breadth)/2\")\n",
    "        Formula=(hei*Bre)/2\n",
    "        print(\"Area of Triangle:\",Formula)\n",
    "        Hei1=int(input(\"Height1:\"))\n",
    "        Hei2=int(input(\"Height2:\"))\n",
    "        Bred=int(input(\"Breadth:\"))\n",
    "        print(\"Perimeter Formula:Height1+Height2+Breath\")\n",
    "        POT=Hei1+Hei2+Bred \n",
    "        print(POT)\n",
    "    "
   ]
  },
  {
   "cell_type": "code",
   "execution_count": 14,
   "id": "60c58c56",
   "metadata": {},
   "outputs": [
    {
     "name": "stdout",
     "output_type": "stream",
     "text": [
      "Height:32\n",
      "Breadth:34\n",
      "Area Formula:(Height*Breadth)/2\n",
      "Area of Triangle: 544.0\n",
      "Height1:2\n",
      "Height2:4\n",
      "Breadth:4\n",
      "Perimeter Formula:Height1+Height2+Breath\n",
      "10\n"
     ]
    }
   ],
   "source": [
    "Triangle.triangle()"
   ]
  },
  {
   "cell_type": "code",
   "execution_count": 19,
   "id": "0d8a46cb",
   "metadata": {},
   "outputs": [],
   "source": [
    "class subfield():\n",
    "    def subfields():\n",
    "        list=[\"Sub-field in AI are:\",\"Machine Learning\",\"Neutral Networks\",\"Vision\",\"Robotics\",\"Speech Processing\",\"Natural Language Processing\"]\n",
    "        for raj in list:\n",
    "            print(raj)\n",
    "    def oddeven():\n",
    "        num1=int(input(\"Enter The Number:\"))\n",
    "        if(num1%2==0):\n",
    "            print(\"The number is even\")\n",
    "            var=\"The number is even\"\n",
    "        else:\n",
    "            print(\"The number is odd\")\n",
    "            var=\"The number is odd\"\n",
    "        return var\n",
    "    def Elegible():\n",
    "        num1=input(\"Your Gender:\")\n",
    "        num2=int(input(\"Your Age:\"))\n",
    "        if (num2==\"Male\") or (num2<=18):\n",
    "            print(\"NOT ELIGIBLE\")\n",
    "            var=\"NOT ELIGIBLE\"\n",
    "        else:\n",
    "            print(\"Elegible\")\n",
    "            var=\"Elegible\"\n",
    "        return var\n",
    "    def percentage():\n",
    "        subj1=int(input(\"subject1=\"))\n",
    "        subj2=int(input(\"subject2=\"))\n",
    "        subj3=int(input(\"subject3=\"))\n",
    "        subj4=int(input(\"subject4=\"))\n",
    "        subj5=int(input(\"subject5=\"))\n",
    "        Total=subj1+subj2+subj3+subj4+subj5\n",
    "        print(\"Total:\",Total)\n",
    "        Percentage=Total//5\n",
    "        print(\"Percentage:\",Percentage)\n",
    "    def triangle():\n",
    "        hei=int(input(\"Height:\"))\n",
    "        Bre=int(input(\"Breadth:\"))\n",
    "        print(\"Area Formula:(Height*Breadth)/2\")\n",
    "        Formula=(hei*Bre)/2\n",
    "        print(\"Area of Triangle:\",Formula)\n",
    "        Hei1=int(input(\"Height1:\"))\n",
    "        Hei2=int(input(\"Height2:\"))\n",
    "        Bred=int(input(\"Breadth:\"))\n",
    "        print(\"Perimeter Formula:Height1+Height2+Breath\")\n",
    "        POT=Hei1+Hei2+Bred \n",
    "        print(POT)\n",
    "            "
   ]
  },
  {
   "cell_type": "code",
   "execution_count": 20,
   "id": "638669c4",
   "metadata": {},
   "outputs": [
    {
     "name": "stdout",
     "output_type": "stream",
     "text": [
      "Sub-field in AI are:\n",
      "Machine Learning\n",
      "Neutral Networks\n",
      "Vision\n",
      "Robotics\n",
      "Speech Processing\n",
      "Natural Language Processing\n"
     ]
    }
   ],
   "source": [
    "subfield.subfields()"
   ]
  },
  {
   "cell_type": "code",
   "execution_count": null,
   "id": "43d26941",
   "metadata": {},
   "outputs": [],
   "source": []
  }
 ],
 "metadata": {
  "kernelspec": {
   "display_name": "Python 3 (ipykernel)",
   "language": "python",
   "name": "python3"
  },
  "language_info": {
   "codemirror_mode": {
    "name": "ipython",
    "version": 3
   },
   "file_extension": ".py",
   "mimetype": "text/x-python",
   "name": "python",
   "nbconvert_exporter": "python",
   "pygments_lexer": "ipython3",
   "version": "3.10.9"
  }
 },
 "nbformat": 4,
 "nbformat_minor": 5
}
