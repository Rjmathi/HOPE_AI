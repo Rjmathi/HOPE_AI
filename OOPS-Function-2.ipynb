{
 "cells": [
  {
   "cell_type": "code",
   "execution_count": 1,
   "id": "da68acac",
   "metadata": {},
   "outputs": [],
   "source": [
    "#Functions#Direct Input buy from users Program#\n",
    "def BMI():\n",
    "    BMI=int(input(\"Enter the Age:\"))\n",
    "    if (BMI<18.5):\n",
    "        print(\"Underweight\")\n",
    "        massage=\"Underweight\"\n",
    "    elif(BMI<=25):\n",
    "        print(\"Normal\")\n",
    "        massage=\"Normal\"\n",
    "    elif(BMI<=30):\n",
    "        print(\"Overweight\")\n",
    "        massage=\"Overweight\"\n",
    "    else:\n",
    "        print(\"very overweight\")\n",
    "        massage=\"very overweight\"\n",
    "    return massage\n",
    "    \n",
    "    "
   ]
  },
  {
   "cell_type": "code",
   "execution_count": 2,
   "id": "530ab714",
   "metadata": {},
   "outputs": [
    {
     "name": "stdout",
     "output_type": "stream",
     "text": [
      "Enter the Age:20\n",
      "Normal\n"
     ]
    },
    {
     "data": {
      "text/plain": [
       "'Normal'"
      ]
     },
     "execution_count": 2,
     "metadata": {},
     "output_type": "execute_result"
    }
   ],
   "source": [
    "BMI()"
   ]
  },
  {
   "cell_type": "code",
   "execution_count": 3,
   "id": "37585a81",
   "metadata": {},
   "outputs": [
    {
     "name": "stdout",
     "output_type": "stream",
     "text": [
      "Enter the Age:25\n",
      "Normal\n"
     ]
    }
   ],
   "source": [
    "bmi=BMI()"
   ]
  },
  {
   "cell_type": "code",
   "execution_count": 5,
   "id": "7b2633c2",
   "metadata": {},
   "outputs": [],
   "source": [
    "#Paremeter or argument or Input passing Function#Use input passing program#\n",
    "def addition(num1,num2):    \n",
    "    add=num1+num2\n",
    "    return add\n",
    "    "
   ]
  },
  {
   "cell_type": "code",
   "execution_count": 7,
   "id": "039bb76d",
   "metadata": {},
   "outputs": [
    {
     "data": {
      "text/plain": [
       "5"
      ]
     },
     "execution_count": 7,
     "metadata": {},
     "output_type": "execute_result"
    }
   ],
   "source": [
    "addition(2,3)"
   ]
  },
  {
   "cell_type": "code",
   "execution_count": 11,
   "id": "36d0d696",
   "metadata": {},
   "outputs": [],
   "source": [
    "def sub(num1,num2):\n",
    "    sub=num1-num2\n",
    "    return sub"
   ]
  },
  {
   "cell_type": "code",
   "execution_count": 13,
   "id": "9f0e6bf0",
   "metadata": {},
   "outputs": [
    {
     "data": {
      "text/plain": [
       "3"
      ]
     },
     "execution_count": 13,
     "metadata": {},
     "output_type": "execute_result"
    }
   ],
   "source": [
    "sub(1,(-2))"
   ]
  },
  {
   "cell_type": "code",
   "execution_count": null,
   "id": "02bf9f40",
   "metadata": {},
   "outputs": [],
   "source": []
  }
 ],
 "metadata": {
  "kernelspec": {
   "display_name": "Python 3 (ipykernel)",
   "language": "python",
   "name": "python3"
  },
  "language_info": {
   "codemirror_mode": {
    "name": "ipython",
    "version": 3
   },
   "file_extension": ".py",
   "mimetype": "text/x-python",
   "name": "python",
   "nbconvert_exporter": "python",
   "pygments_lexer": "ipython3",
   "version": "3.10.9"
  }
 },
 "nbformat": 4,
 "nbformat_minor": 5
}
