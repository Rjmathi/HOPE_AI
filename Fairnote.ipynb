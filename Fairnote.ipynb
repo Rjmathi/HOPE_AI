{
 "cells": [
  {
   "cell_type": "code",
   "execution_count": 1,
   "id": "aeb0964f",
   "metadata": {},
   "outputs": [],
   "source": [
    "from Multiplefunction import multiplefunction\n",
    "#from filename import classname"
   ]
  },
  {
   "cell_type": "code",
   "execution_count": 2,
   "id": "4017efc9",
   "metadata": {},
   "outputs": [
    {
     "name": "stdout",
     "output_type": "stream",
     "text": [
      "Enter the Age:20\n",
      "Normal\n"
     ]
    },
    {
     "data": {
      "text/plain": [
       "'Normal'"
      ]
     },
     "execution_count": 2,
     "metadata": {},
     "output_type": "execute_result"
    }
   ],
   "source": [
    "multiplefunction.BMI()"
   ]
  },
  {
   "cell_type": "code",
   "execution_count": 3,
   "id": "e8fd4af9",
   "metadata": {},
   "outputs": [
    {
     "name": "stdout",
     "output_type": "stream",
     "text": [
      "Enter the number:20\n",
      "Even number\n"
     ]
    },
    {
     "data": {
      "text/plain": [
       "'Even Number'"
      ]
     },
     "execution_count": 3,
     "metadata": {},
     "output_type": "execute_result"
    }
   ],
   "source": [
    "multiplefunction.oddven()"
   ]
  },
  {
   "cell_type": "code",
   "execution_count": null,
   "id": "1d28923b",
   "metadata": {},
   "outputs": [],
   "source": []
  }
 ],
 "metadata": {
  "kernelspec": {
   "display_name": "Python 3 (ipykernel)",
   "language": "python",
   "name": "python3"
  },
  "language_info": {
   "codemirror_mode": {
    "name": "ipython",
    "version": 3
   },
   "file_extension": ".py",
   "mimetype": "text/x-python",
   "name": "python",
   "nbconvert_exporter": "python",
   "pygments_lexer": "ipython3",
   "version": "3.10.9"
  }
 },
 "nbformat": 4,
 "nbformat_minor": 5
}
