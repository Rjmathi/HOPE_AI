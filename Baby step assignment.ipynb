{
 "cells": [
  {
   "cell_type": "code",
   "execution_count": 1,
   "id": "a6f9b730",
   "metadata": {},
   "outputs": [
    {
     "name": "stdout",
     "output_type": "stream",
     "text": [
      "Welcome to Assignment-1\n"
     ]
    }
   ],
   "source": []
  },
  {
   "cell_type": "code",
   "execution_count": 4,
   "id": "db43e672",
   "metadata": {},
   "outputs": [
    {
     "name": "stdout",
     "output_type": "stream",
     "text": [
      "40\n"
     ]
    }
   ],
   "source": [
    "num1=10\n",
    "num2=30\n",
    "add=num1+num2\n",
    "print(add)"
   ]
  },
  {
   "cell_type": "code",
   "execution_count": 7,
   "id": "79604ff3",
   "metadata": {},
   "outputs": [
    {
     "name": "stdout",
     "output_type": "stream",
     "text": [
      "num1=10\n",
      "num2=30\n",
      "40\n"
     ]
    }
   ],
   "source": [
    "num1_=int(input(\"num1=\"))\n",
    "num2_=int(input(\"num2=\"))\n",
    "add=num1_+num2_\n",
    "print(add)\n",
    "                "
   ]
  },
  {
   "cell_type": "code",
   "execution_count": null,
   "id": "dc9c418d",
   "metadata": {},
   "outputs": [],
   "source": [
    "BMI=int(input(\"Enter the BMI Index:\"))\n",
    "if (BMI<18.5):\n",
    "    print(\"Underweight\")\n",
    "elif(BMI>=18.5):\n",
    "    print(\"Normal Weight\")\n",
    "elif(BMI>=25):\n",
    "    print(\"Overweight\")\n",
    "elif(BMI<=30):\n",
    "    print(\"very Overweight or Obesity\")\n",
    "elif(BMI>=35):\n",
    "    print(\"Obesity_Class-2\")\n",
    "else:\n",
    "    print(\"Obesity_Class_3\")\n",
    "    \n",
    "        \n",
    "        "
   ]
  },
  {
   "cell_type": "code",
   "execution_count": null,
   "id": "45da6032",
   "metadata": {},
   "outputs": [],
   "source": [
    "bmi=int(input(\"Enter the bmi Index:\"))\n",
    "if (bmi<18.5):\n",
    "    print(\"Underweight\")"
   ]
  },
  {
   "cell_type": "code",
   "execution_count": null,
   "id": "c6fba478",
   "metadata": {},
   "outputs": [],
   "source": [
    "BMI=int(input(\"Enter the BMI Index:\"))\n",
    "if (BMI<=18.5):\n",
    "    print(\"Underweight\")\n",
    "elif(BMI<=25):\n",
    "    print(\"Normal_Weight\")\n",
    "else:\n",
    "    print(\"Very_Overweight\")\n"
   ]
  },
  {
   "cell_type": "code",
   "execution_count": null,
   "id": "849e98cb",
   "metadata": {},
   "outputs": [],
   "source": []
  }
 ],
 "metadata": {
  "kernelspec": {
   "display_name": "Python 3 (ipykernel)",
   "language": "python",
   "name": "python3"
  },
  "language_info": {
   "codemirror_mode": {
    "name": "ipython",
    "version": 3
   },
   "file_extension": ".py",
   "mimetype": "text/x-python",
   "name": "python",
   "nbconvert_exporter": "python",
   "pygments_lexer": "ipython3",
   "version": "3.10.9"
  }
 },
 "nbformat": 4,
 "nbformat_minor": 5
}
