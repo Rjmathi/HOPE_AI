{
 "cells": [
  {
   "cell_type": "code",
   "execution_count": null,
   "id": "1280f349",
   "metadata": {},
   "outputs": [],
   "source": [
    "#Class#\n",
    "class calculator():\n",
    "    def addition():\n",
    "        add=a+b\n",
    "        return add\n",
    "    def subtraction():\n",
    "        sub=a-b\n",
    "        return sub\n",
    "    def multiplication():\n",
    "        mul=a*b\n",
    "        return mul\n",
    "    \n",
    "#How to call class#Dot(.) is dot operator or Axis operator\n",
    "result1=calculator.addition(1,1)\n",
    "print(\"Addition:\",result1)\n",
    "result1=calculator.subtraction(3,2)\n",
    "print(\"Subtraction:\",result2)\n",
    "result1=calculator.Multiplication(1,1)\n",
    "print(\"Multiplication:\",result3)"
   ]
  },
  {
   "cell_type": "code",
   "execution_count": 1,
   "id": "38e53ab5",
   "metadata": {},
   "outputs": [],
   "source": [
    "class multiplefunction():\n",
    "    def oddven():\n",
    "        num1=int(input(\"Enter the number:\"))\n",
    "        if(num1%2==1):\n",
    "            print(\"Odd Number\")\n",
    "            var=\"Odd NUmber\"\n",
    "        else:\n",
    "            print(\"Even number\")\n",
    "            var=\"Even Number\"\n",
    "        return var\n",
    "    def BMI():\n",
    "        BMI=int(input(\"Enter the Age:\"))\n",
    "        if (BMI<18.5):\n",
    "            print(\"Underweight\")\n",
    "            massage=\"Underweight\"\n",
    "        elif(BMI<=25):\n",
    "            print(\"Normal\")\n",
    "            massage=\"Normal\"\n",
    "        elif(BMI<=30):\n",
    "            print(\"Overweight\")\n",
    "            massage=\"Overweight\"\n",
    "        else:\n",
    "            print(\"very overweight\")\n",
    "            massage=\"very overweight\"\n",
    "        return massage\n",
    "\n",
    "\n"
   ]
  },
  {
   "cell_type": "code",
   "execution_count": 2,
   "id": "d0bd4411",
   "metadata": {},
   "outputs": [
    {
     "name": "stdout",
     "output_type": "stream",
     "text": [
      "Enter the Age:18\n",
      "Underweight\n"
     ]
    },
    {
     "data": {
      "text/plain": [
       "'Underweight'"
      ]
     },
     "execution_count": 2,
     "metadata": {},
     "output_type": "execute_result"
    }
   ],
   "source": [
    "multiplefunction.BMI()"
   ]
  },
  {
   "cell_type": "code",
   "execution_count": 4,
   "id": "69dda5c5",
   "metadata": {},
   "outputs": [
    {
     "name": "stdout",
     "output_type": "stream",
     "text": [
      "Enter the number:20\n",
      "Even number\n"
     ]
    },
    {
     "data": {
      "text/plain": [
       "'Even Number'"
      ]
     },
     "execution_count": 4,
     "metadata": {},
     "output_type": "execute_result"
    }
   ],
   "source": [
    "multiplefunction.oddven()"
   ]
  },
  {
   "cell_type": "code",
   "execution_count": null,
   "id": "be4cf912",
   "metadata": {},
   "outputs": [],
   "source": []
  }
 ],
 "metadata": {
  "kernelspec": {
   "display_name": "Python 3 (ipykernel)",
   "language": "python",
   "name": "python3"
  },
  "language_info": {
   "codemirror_mode": {
    "name": "ipython",
    "version": 3
   },
   "file_extension": ".py",
   "mimetype": "text/x-python",
   "name": "python",
   "nbconvert_exporter": "python",
   "pygments_lexer": "ipython3",
   "version": "3.10.9"
  }
 },
 "nbformat": 4,
 "nbformat_minor": 5
}
