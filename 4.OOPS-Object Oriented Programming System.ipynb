{
 "cells": [
  {
   "cell_type": "code",
   "execution_count": null,
   "id": "d53a57f1",
   "metadata": {},
   "outputs": [],
   "source": [
    "#OOPS is two classes one is Functionand another is Class#"
   ]
  },
  {
   "cell_type": "code",
   "execution_count": null,
   "id": "6ca5c8da",
   "metadata": {},
   "outputs": [],
   "source": [
    "#Object is Function#\n",
    "#Class is group of function#"
   ]
  }
 ],
 "metadata": {
  "kernelspec": {
   "display_name": "Python 3 (ipykernel)",
   "language": "python",
   "name": "python3"
  },
  "language_info": {
   "codemirror_mode": {
    "name": "ipython",
    "version": 3
   },
   "file_extension": ".py",
   "mimetype": "text/x-python",
   "name": "python",
   "nbconvert_exporter": "python",
   "pygments_lexer": "ipython3",
   "version": "3.10.9"
  }
 },
 "nbformat": 4,
 "nbformat_minor": 5
}
